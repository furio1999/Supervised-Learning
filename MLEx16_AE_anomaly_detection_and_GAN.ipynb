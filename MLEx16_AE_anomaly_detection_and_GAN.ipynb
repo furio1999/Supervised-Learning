{
  "nbformat": 4,
  "nbformat_minor": 0,
  "metadata": {
    "colab": {
      "name": "MLEx16. AE_anomaly_detection_and_GAN",
      "provenance": [],
      "collapsed_sections": [],
      "toc_visible": true
    },
    "kernelspec": {
      "display_name": "Python 3",
      "language": "python",
      "name": "python3"
    },
    "language_info": {
      "codemirror_mode": {
        "name": "ipython",
        "version": 3
      },
      "file_extension": ".py",
      "mimetype": "text/x-python",
      "name": "python",
      "nbconvert_exporter": "python",
      "pygments_lexer": "ipython3",
      "version": "3.7.0"
    }
  },
  "cells": [
    {
      "cell_type": "markdown",
      "metadata": {
        "id": "-x3lLlJBAg37"
      },
      "source": [
        "# Machine Learning Exercise 16\n",
        "# Timeseries anomaly detection using an Autoencoder\n",
        "\n",
        "Exercise inspired by https://github.com/pavithrasv\n",
        "\n",
        "This exercise shows the use of 1D Convolutional Autoencoder to detect anonalies in a 1D signal. It will also show examples of data generation."
      ]
    },
    {
      "cell_type": "markdown",
      "metadata": {
        "id": "Q7cNb9g9Ag38"
      },
      "source": [
        "## Import libraries"
      ]
    },
    {
      "cell_type": "code",
      "metadata": {
        "id": "EzfpkIqeAg38"
      },
      "source": [
        "import numpy as np\n",
        "import pandas as pd\n",
        "from tensorflow import keras\n",
        "from tensorflow.keras import layers\n",
        "from matplotlib import pyplot as plt"
      ],
      "execution_count": null,
      "outputs": []
    },
    {
      "cell_type": "markdown",
      "metadata": {
        "id": "vjGkkhF_Ag39"
      },
      "source": [
        "## Load the data\n",
        "\n",
        "We will use the [Numenta Anomaly Benchmark(NAB)](\n",
        "https://www.kaggle.com/boltzmannbrain/nab) dataset. It provides artifical\n",
        "timeseries data containing labeled anomalous periods of behavior. Data are\n",
        "ordered, timestamped, single-valued metrics.\n",
        "\n",
        "We will use the `art_daily_small_noise.csv` file for training and the\n",
        "`art_daily_jumpsup.csv` file for testing. The simplicity of this dataset\n",
        "allows us to demonstrate anomaly detection effectively."
      ]
    },
    {
      "cell_type": "code",
      "metadata": {
        "id": "c4hO_JNdAg39"
      },
      "source": [
        "master_url_root = \"https://raw.githubusercontent.com/numenta/NAB/master/data/\"\n",
        "\n",
        "df_small_noise_url_suffix = \"artificialNoAnomaly/art_daily_small_noise.csv\"\n",
        "df_small_noise_url = master_url_root + df_small_noise_url_suffix\n",
        "df_small_noise = pd.read_csv(\n",
        "    df_small_noise_url, parse_dates=True, index_col=\"timestamp\"\n",
        ")\n",
        "\n",
        "df_daily_jumpsup_url_suffix = \"artificialWithAnomaly/art_daily_jumpsup.csv\"\n",
        "df_daily_jumpsup_url = master_url_root + df_daily_jumpsup_url_suffix\n",
        "df_daily_jumpsup = pd.read_csv(\n",
        "    df_daily_jumpsup_url, parse_dates=True, index_col=\"timestamp\"\n",
        ")"
      ],
      "execution_count": null,
      "outputs": []
    },
    {
      "cell_type": "markdown",
      "metadata": {
        "id": "KlpJBPT0Ag3-"
      },
      "source": [
        "## Visualize the data"
      ]
    },
    {
      "cell_type": "code",
      "metadata": {
        "id": "jH3cnD7IAg3-",
        "colab": {
          "base_uri": "https://localhost:8080/"
        },
        "outputId": "1353ab2b-94d4-4fab-bfd8-d77e7e61b524"
      },
      "source": [
        "print(df_small_noise.head())\n",
        "\n",
        "print(df_daily_jumpsup.head())"
      ],
      "execution_count": null,
      "outputs": [
        {
          "output_type": "stream",
          "text": [
            "                         value\n",
            "timestamp                     \n",
            "2014-04-01 00:00:00  18.324919\n",
            "2014-04-01 00:05:00  21.970327\n",
            "2014-04-01 00:10:00  18.624806\n",
            "2014-04-01 00:15:00  21.953684\n",
            "2014-04-01 00:20:00  21.909120\n",
            "                         value\n",
            "timestamp                     \n",
            "2014-04-01 00:00:00  19.761252\n",
            "2014-04-01 00:05:00  20.500833\n",
            "2014-04-01 00:10:00  19.961641\n",
            "2014-04-01 00:15:00  21.490266\n",
            "2014-04-01 00:20:00  20.187739\n"
          ],
          "name": "stdout"
        }
      ]
    },
    {
      "cell_type": "markdown",
      "metadata": {
        "id": "B-jpeGwgAg3-"
      },
      "source": [
        "### Timeseries data without anomalies\n",
        "\n",
        "We will use the following data for training."
      ]
    },
    {
      "cell_type": "code",
      "metadata": {
        "id": "4fXlvsznAg3-",
        "colab": {
          "base_uri": "https://localhost:8080/",
          "height": 303
        },
        "outputId": "c7772527-2c99-40db-aba8-57c3484aca5c"
      },
      "source": [
        "fig, ax = plt.subplots()\n",
        "df_small_noise.plot(legend=False, ax=ax)\n",
        "plt.show()"
      ],
      "execution_count": null,
      "outputs": [
        {
          "output_type": "display_data",
          "data": {
            "image/png": "[encoded data removed]",
            "text/plain": [
              "<Figure size 432x288 with 1 Axes>"
            ]
          },
          "metadata": {
            "tags": [],
            "needs_background": "light"
          }
        }
      ]
    },
    {
      "cell_type": "markdown",
      "metadata": {
        "id": "AfXtlxASAg3-"
      },
      "source": [
        "### Timeseries data with anomalies\n",
        "\n",
        "We will use the following data for testing and see if the sudden jump up in the\n",
        "data is detected as an anomaly."
      ]
    },
    {
      "cell_type": "code",
      "metadata": {
        "id": "LgbNiwpQAg3-",
        "colab": {
          "base_uri": "https://localhost:8080/",
          "height": 303
        },
        "outputId": "e8991b25-ce9d-4adc-92b2-a7c2a87a8cc9"
      },
      "source": [
        "fig, ax = plt.subplots()\n",
        "df_daily_jumpsup.plot(legend=False, ax=ax)\n",
        "plt.show()"
      ],
      "execution_count": null,
      "outputs": [
        {
          "output_type": "display_data",
          "data": {
            "image/png": "[encoded data removed]",
            "text/plain": [
              "<Figure size 432x288 with 1 Axes>"
            ]
          },
          "metadata": {
            "tags": [],
            "needs_background": "light"
          }
        }
      ]
    },
    {
      "cell_type": "markdown",
      "metadata": {
        "id": "gQiskRx8Ag3-"
      },
      "source": [
        "## Prepare training data\n",
        "\n",
        "Get data values from the training timeseries data file and normalize the\n",
        "`value` data. We have a `value` for every 5 mins for 14 days.\n",
        "\n",
        "-   24 * 60 / 5 = **288 timesteps per day**\n",
        "-   288 * 14 = **4032 data points** in total"
      ]
    },
    {
      "cell_type": "code",
      "metadata": {
        "id": "71S4OBkMAg3-",
        "colab": {
          "base_uri": "https://localhost:8080/"
        },
        "outputId": "f271a602-4159-46b3-866f-15d0154d8fe3"
      },
      "source": [
        "# Normalize and save the mean and std we get,\n",
        "# for normalizing test data.\n",
        "training_mean = df_small_noise.mean()\n",
        "training_std = df_small_noise.std()\n",
        "df_training_value = (df_small_noise - training_mean) / training_std\n",
        "print(\"Number of training samples:\", len(df_training_value))"
      ],
      "execution_count": null,
      "outputs": [
        {
          "output_type": "stream",
          "text": [
            "Number of training samples: 4032\n"
          ],
          "name": "stdout"
        }
      ]
    },
    {
      "cell_type": "markdown",
      "metadata": {
        "id": "JXl3IQKLAg3-"
      },
      "source": [
        "### Create sequences\n",
        "Create sequences combining `TIME_STEPS` contiguous data values from the training data. Each bunch of data is separated by `TIME_DELTA` steps. When `TIME_DELTA = TIME_STEPS` there will be no overlapping in the produced data.\n",
        "\n",
        "Note: you can change `TIME_DELTA` for the AE part."
      ]
    },
    {
      "cell_type": "code",
      "metadata": {
        "id": "yUSKMqdSAg3-",
        "colab": {
          "base_uri": "https://localhost:8080/"
        },
        "outputId": "941c71b0-d39f-42f6-96e4-88774e7b4f13"
      },
      "source": [
        "TIME_STEPS = 288\n",
        "TIME_DELTA = 288\n",
        "\n",
        "# Generated training sequences for use in the model.\n",
        "def create_sequences(values, time_steps=TIME_STEPS):\n",
        "    output = []\n",
        "    for i in range(0,len(values) - time_steps+1, TIME_DELTA):\n",
        "        output.append(values[i : (i + time_steps)])\n",
        "    return np.stack(output)\n",
        "\n",
        "\n",
        "x_train = create_sequences(df_training_value.values)\n",
        "print(\"Training input shape: \", x_train.shape)"
      ],
      "execution_count": null,
      "outputs": [
        {
          "output_type": "stream",
          "text": [
            "Training input shape:  (14, 288, 1)\n"
          ],
          "name": "stdout"
        }
      ]
    },
    {
      "cell_type": "markdown",
      "metadata": {
        "id": "BMpQz-hYAg3-"
      },
      "source": [
        "## Build a model\n",
        "\n",
        "We will build a convolutional reconstruction autoencoder model. The model will\n",
        "take input of shape `(batch_size, sequence_length, num_features)` and return\n",
        "output of the same shape. In this case, `sequence_length` is 288 and\n",
        "`num_features` is 1."
      ]
    },
    {
      "cell_type": "code",
      "metadata": {
        "id": "2s3qwYQLAg3-",
        "colab": {
          "base_uri": "https://localhost:8080/"
        },
        "outputId": "da704d88-01b1-4bac-e36c-8dd694cfc22c"
      },
      "source": [
        "model = keras.Sequential(\n",
        "    [\n",
        "        layers.Input(shape=(x_train.shape[1], x_train.shape[2])),\n",
        "        layers.Conv1D(\n",
        "            filters=32, kernel_size=7, padding=\"same\", strides=2, activation=\"relu\"\n",
        "        ),\n",
        "        layers.Dropout(rate=0.2),\n",
        "        layers.Conv1D(\n",
        "            filters=16, kernel_size=7, padding=\"same\", strides=2, activation=\"relu\"\n",
        "        ),\n",
        "        layers.Conv1DTranspose(\n",
        "            filters=16, kernel_size=7, padding=\"same\", strides=2, activation=\"relu\"\n",
        "        ),\n",
        "        layers.Dropout(rate=0.2),\n",
        "        layers.Conv1DTranspose(\n",
        "            filters=32, kernel_size=7, padding=\"same\", strides=2, activation=\"relu\"\n",
        "        ),\n",
        "        layers.Conv1DTranspose(filters=1, kernel_size=7, padding=\"same\"),\n",
        "    ], name = \"AE\"\n",
        ")\n",
        "model.compile(optimizer=keras.optimizers.Adam(learning_rate=0.001), loss=\"mae\")\n",
        "print(\"Input: %s\" %str(x_train.shape))\n",
        "model.summary()"
      ],
      "execution_count": null,
      "outputs": [
        {
          "output_type": "stream",
          "text": [
            "Input: (14, 288, 1)\n",
            "Model: \"AE\"\n",
            "_________________________________________________________________\n",
            "Layer (type)                 Output Shape              Param #   \n",
            "=================================================================\n",
            "conv1d_14 (Conv1D)           (None, 144, 32)           256       \n",
            "_________________________________________________________________\n",
            "dropout_6 (Dropout)          (None, 144, 32)           0         \n",
            "_________________________________________________________________\n",
            "conv1d_15 (Conv1D)           (None, 72, 16)            3600      \n",
            "_________________________________________________________________\n",
            "conv1d_transpose_21 (Conv1DT (None, 144, 16)           1808      \n",
            "_________________________________________________________________\n",
            "dropout_7 (Dropout)          (None, 144, 16)           0         \n",
            "_________________________________________________________________\n",
            "conv1d_transpose_22 (Conv1DT (None, 288, 32)           3616      \n",
            "_________________________________________________________________\n",
            "conv1d_transpose_23 (Conv1DT (None, 288, 1)            225       \n",
            "=================================================================\n",
            "Total params: 9,505\n",
            "Trainable params: 9,505\n",
            "Non-trainable params: 0\n",
            "_________________________________________________________________\n"
          ],
          "name": "stdout"
        }
      ]
    },
    {
      "cell_type": "markdown",
      "metadata": {
        "id": "HL2N-XSWAg3_"
      },
      "source": [
        "## Train the model\n",
        "\n",
        "Please note that we are using `x_train` as both the input and the target\n",
        "since this is a reconstruction model."
      ]
    },
    {
      "cell_type": "code",
      "metadata": {
        "id": "HbSUIE5vAg3_",
        "colab": {
          "base_uri": "https://localhost:8080/"
        },
        "outputId": "2502d466-eeb0-4900-e5e7-c48cf099bf11"
      },
      "source": [
        "history = model.fit(\n",
        "    x_train,\n",
        "    x_train,\n",
        "    epochs=100,\n",
        "    batch_size=128,\n",
        ")"
      ],
      "execution_count": null,
      "outputs": [
        {
          "output_type": "stream",
          "text": [
            "Epoch 1/100\n",
            "1/1 [==============================] - 0s 1ms/step - loss: 0.9575\n",
            "Epoch 2/100\n",
            "1/1 [==============================] - 0s 1ms/step - loss: 0.9489\n",
            "Epoch 3/100\n",
            "1/1 [==============================] - 0s 1ms/step - loss: 0.9400\n",
            "Epoch 4/100\n",
            "1/1 [==============================] - 0s 1ms/step - loss: 0.9312\n",
            "Epoch 5/100\n",
            "1/1 [==============================] - 0s 1ms/step - loss: 0.9195\n",
            "Epoch 6/100\n",
            "1/1 [==============================] - 0s 1ms/step - loss: 0.9059\n",
            "Epoch 7/100\n",
            "1/1 [==============================] - 0s 1ms/step - loss: 0.8899\n",
            "Epoch 8/100\n",
            "1/1 [==============================] - 0s 1ms/step - loss: 0.8694\n",
            "Epoch 9/100\n",
            "1/1 [==============================] - 0s 1ms/step - loss: 0.8460\n",
            "Epoch 10/100\n",
            "1/1 [==============================] - 0s 2ms/step - loss: 0.8136\n",
            "Epoch 11/100\n",
            "1/1 [==============================] - 0s 2ms/step - loss: 0.7813\n",
            "Epoch 12/100\n",
            "1/1 [==============================] - 0s 1ms/step - loss: 0.7353\n",
            "Epoch 13/100\n",
            "1/1 [==============================] - 0s 3ms/step - loss: 0.6894\n",
            "Epoch 14/100\n",
            "1/1 [==============================] - 0s 1ms/step - loss: 0.6264\n",
            "Epoch 15/100\n",
            "1/1 [==============================] - 0s 1ms/step - loss: 0.5457\n",
            "Epoch 16/100\n",
            "1/1 [==============================] - 0s 1ms/step - loss: 0.4717\n",
            "Epoch 17/100\n",
            "1/1 [==============================] - 0s 1ms/step - loss: 0.3945\n",
            "Epoch 18/100\n",
            "1/1 [==============================] - 0s 1ms/step - loss: 0.3225\n",
            "Epoch 19/100\n",
            "1/1 [==============================] - 0s 1ms/step - loss: 0.2767\n",
            "Epoch 20/100\n",
            "1/1 [==============================] - 0s 1ms/step - loss: 0.2746\n",
            "Epoch 21/100\n",
            "1/1 [==============================] - 0s 2ms/step - loss: 0.2941\n",
            "Epoch 22/100\n",
            "1/1 [==============================] - 0s 2ms/step - loss: 0.3227\n",
            "Epoch 23/100\n",
            "1/1 [==============================] - 0s 1ms/step - loss: 0.3108\n",
            "Epoch 24/100\n",
            "1/1 [==============================] - 0s 1ms/step - loss: 0.2801\n",
            "Epoch 25/100\n",
            "1/1 [==============================] - 0s 1ms/step - loss: 0.2556\n",
            "Epoch 26/100\n",
            "1/1 [==============================] - 0s 1ms/step - loss: 0.2325\n",
            "Epoch 27/100\n",
            "1/1 [==============================] - 0s 1ms/step - loss: 0.2039\n",
            "Epoch 28/100\n",
            "1/1 [==============================] - 0s 1ms/step - loss: 0.2010\n",
            "Epoch 29/100\n",
            "1/1 [==============================] - 0s 1ms/step - loss: 0.2078\n",
            "Epoch 30/100\n",
            "1/1 [==============================] - 0s 1ms/step - loss: 0.2094\n",
            "Epoch 31/100\n",
            "1/1 [==============================] - 0s 1ms/step - loss: 0.2121\n",
            "Epoch 32/100\n",
            "1/1 [==============================] - 0s 2ms/step - loss: 0.2141\n",
            "Epoch 33/100\n",
            "1/1 [==============================] - 0s 1ms/step - loss: 0.2166\n",
            "Epoch 34/100\n",
            "1/1 [==============================] - 0s 1ms/step - loss: 0.2074\n",
            "Epoch 35/100\n",
            "1/1 [==============================] - 0s 1ms/step - loss: 0.1949\n",
            "Epoch 36/100\n",
            "1/1 [==============================] - 0s 1ms/step - loss: 0.1892\n",
            "Epoch 37/100\n",
            "1/1 [==============================] - 0s 1ms/step - loss: 0.1842\n",
            "Epoch 38/100\n",
            "1/1 [==============================] - 0s 2ms/step - loss: 0.1850\n",
            "Epoch 39/100\n",
            "1/1 [==============================] - 0s 1ms/step - loss: 0.1900\n",
            "Epoch 40/100\n",
            "1/1 [==============================] - 0s 1ms/step - loss: 0.1886\n",
            "Epoch 41/100\n",
            "1/1 [==============================] - 0s 1ms/step - loss: 0.1889\n",
            "Epoch 42/100\n",
            "1/1 [==============================] - 0s 1ms/step - loss: 0.1810\n",
            "Epoch 43/100\n",
            "1/1 [==============================] - 0s 1ms/step - loss: 0.1757\n",
            "Epoch 44/100\n",
            "1/1 [==============================] - 0s 1ms/step - loss: 0.1731\n",
            "Epoch 45/100\n",
            "1/1 [==============================] - 0s 1ms/step - loss: 0.1703\n",
            "Epoch 46/100\n",
            "1/1 [==============================] - 0s 1ms/step - loss: 0.1731\n",
            "Epoch 47/100\n",
            "1/1 [==============================] - 0s 2ms/step - loss: 0.1766\n",
            "Epoch 48/100\n",
            "1/1 [==============================] - 0s 1ms/step - loss: 0.1738\n",
            "Epoch 49/100\n",
            "1/1 [==============================] - 0s 1ms/step - loss: 0.1689\n",
            "Epoch 50/100\n",
            "1/1 [==============================] - 0s 1ms/step - loss: 0.1760\n",
            "Epoch 51/100\n",
            "1/1 [==============================] - 0s 1ms/step - loss: 0.1649\n",
            "Epoch 52/100\n",
            "1/1 [==============================] - 0s 1ms/step - loss: 0.1683\n",
            "Epoch 53/100\n",
            "1/1 [==============================] - 0s 1ms/step - loss: 0.1648\n",
            "Epoch 54/100\n",
            "1/1 [==============================] - 0s 1ms/step - loss: 0.1637\n",
            "Epoch 55/100\n",
            "1/1 [==============================] - 0s 1ms/step - loss: 0.1615\n",
            "Epoch 56/100\n",
            "1/1 [==============================] - 0s 2ms/step - loss: 0.1625\n",
            "Epoch 57/100\n",
            "1/1 [==============================] - 0s 1ms/step - loss: 0.1617\n",
            "Epoch 58/100\n",
            "1/1 [==============================] - 0s 1ms/step - loss: 0.1594\n",
            "Epoch 59/100\n",
            "1/1 [==============================] - 0s 1ms/step - loss: 0.1606\n",
            "Epoch 60/100\n",
            "1/1 [==============================] - 0s 1ms/step - loss: 0.1570\n",
            "Epoch 61/100\n",
            "1/1 [==============================] - 0s 2ms/step - loss: 0.1545\n",
            "Epoch 62/100\n",
            "1/1 [==============================] - 0s 3ms/step - loss: 0.1534\n",
            "Epoch 63/100\n",
            "1/1 [==============================] - 0s 3ms/step - loss: 0.1568\n",
            "Epoch 64/100\n",
            "1/1 [==============================] - 0s 2ms/step - loss: 0.1581\n",
            "Epoch 65/100\n",
            "1/1 [==============================] - 0s 2ms/step - loss: 0.1593\n",
            "Epoch 66/100\n",
            "1/1 [==============================] - 0s 2ms/step - loss: 0.1557\n",
            "Epoch 67/100\n",
            "1/1 [==============================] - 0s 1ms/step - loss: 0.1514\n",
            "Epoch 68/100\n",
            "1/1 [==============================] - 0s 1ms/step - loss: 0.1529\n",
            "Epoch 69/100\n",
            "1/1 [==============================] - 0s 2ms/step - loss: 0.1529\n",
            "Epoch 70/100\n",
            "1/1 [==============================] - 0s 1ms/step - loss: 0.1478\n",
            "Epoch 71/100\n",
            "1/1 [==============================] - 0s 1ms/step - loss: 0.1481\n",
            "Epoch 72/100\n",
            "1/1 [==============================] - 0s 1ms/step - loss: 0.1461\n",
            "Epoch 73/100\n",
            "1/1 [==============================] - 0s 1ms/step - loss: 0.1476\n",
            "Epoch 74/100\n",
            "1/1 [==============================] - 0s 1ms/step - loss: 0.1447\n",
            "Epoch 75/100\n",
            "1/1 [==============================] - 0s 1ms/step - loss: 0.1454\n",
            "Epoch 76/100\n",
            "1/1 [==============================] - 0s 1ms/step - loss: 0.1498\n",
            "Epoch 77/100\n",
            "1/1 [==============================] - 0s 2ms/step - loss: 0.1451\n",
            "Epoch 78/100\n",
            "1/1 [==============================] - 0s 1ms/step - loss: 0.1455\n",
            "Epoch 79/100\n",
            "1/1 [==============================] - 0s 2ms/step - loss: 0.1454\n",
            "Epoch 80/100\n",
            "1/1 [==============================] - 0s 1ms/step - loss: 0.1429\n",
            "Epoch 81/100\n",
            "1/1 [==============================] - 0s 2ms/step - loss: 0.1411\n",
            "Epoch 82/100\n",
            "1/1 [==============================] - 0s 2ms/step - loss: 0.1396\n",
            "Epoch 83/100\n",
            "1/1 [==============================] - 0s 1ms/step - loss: 0.1399\n",
            "Epoch 84/100\n",
            "1/1 [==============================] - 0s 1ms/step - loss: 0.1423\n",
            "Epoch 85/100\n",
            "1/1 [==============================] - 0s 1ms/step - loss: 0.1429\n",
            "Epoch 86/100\n",
            "1/1 [==============================] - 0s 2ms/step - loss: 0.1365\n",
            "Epoch 87/100\n",
            "1/1 [==============================] - 0s 2ms/step - loss: 0.1409\n",
            "Epoch 88/100\n",
            "1/1 [==============================] - 0s 1ms/step - loss: 0.1374\n",
            "Epoch 89/100\n",
            "1/1 [==============================] - 0s 1ms/step - loss: 0.1396\n",
            "Epoch 90/100\n",
            "1/1 [==============================] - 0s 1ms/step - loss: 0.1376\n",
            "Epoch 91/100\n",
            "1/1 [==============================] - 0s 2ms/step - loss: 0.1350\n",
            "Epoch 92/100\n",
            "1/1 [==============================] - 0s 3ms/step - loss: 0.1317\n",
            "Epoch 93/100\n",
            "1/1 [==============================] - 0s 2ms/step - loss: 0.1347\n",
            "Epoch 94/100\n",
            "1/1 [==============================] - 0s 1ms/step - loss: 0.1375\n",
            "Epoch 95/100\n",
            "1/1 [==============================] - 0s 1ms/step - loss: 0.1342\n",
            "Epoch 96/100\n",
            "1/1 [==============================] - 0s 1ms/step - loss: 0.1361\n",
            "Epoch 97/100\n",
            "1/1 [==============================] - 0s 1ms/step - loss: 0.1388\n",
            "Epoch 98/100\n",
            "1/1 [==============================] - 0s 2ms/step - loss: 0.1308\n",
            "Epoch 99/100\n",
            "1/1 [==============================] - 0s 1ms/step - loss: 0.1320\n",
            "Epoch 100/100\n",
            "1/1 [==============================] - 0s 1ms/step - loss: 0.1325\n"
          ],
          "name": "stdout"
        }
      ]
    },
    {
      "cell_type": "markdown",
      "metadata": {
        "id": "WIFHb1UEAg3_"
      },
      "source": [
        "Let's plot training and validation loss to see how the training went."
      ]
    },
    {
      "cell_type": "code",
      "metadata": {
        "id": "ZugIdD5_Ag3_",
        "colab": {
          "base_uri": "https://localhost:8080/",
          "height": 265
        },
        "outputId": "10429c33-7cdd-4421-ec8c-a845c4baf5ba"
      },
      "source": [
        "plt.plot(history.history[\"loss\"], label=\"Training Loss\")\n",
        "plt.legend()\n",
        "plt.show()"
      ],
      "execution_count": null,
      "outputs": [
        {
          "output_type": "display_data",
          "data": {
            "image/png": "[encoded data removed]",
            "text/plain": [
              "<Figure size 432x288 with 1 Axes>"
            ]
          },
          "metadata": {
            "tags": [],
            "needs_background": "light"
          }
        }
      ]
    },
    {
      "cell_type": "markdown",
      "metadata": {
        "id": "343yM8WEAg3_"
      },
      "source": [
        "## Detecting anomalies\n",
        "\n",
        "We will detect anomalies by determining how well our model can reconstruct\n",
        "the input data.\n",
        "\n",
        "\n",
        "1.   Find MAE loss on training samples.\n",
        "2.   Find max MAE loss value. This is the worst our model has performed trying\n",
        "to reconstruct a sample. We will make this the `threshold` for anomaly\n",
        "detection.\n",
        "3.   If the reconstruction loss for a sample is greater than this `threshold`\n",
        "value then we can infer that the model is seeing a pattern that it isn't\n",
        "familiar with. We will label this sample as an `anomaly`.\n"
      ]
    },
    {
      "cell_type": "code",
      "metadata": {
        "id": "km-59tHFAg3_",
        "colab": {
          "base_uri": "https://localhost:8080/",
          "height": 297
        },
        "outputId": "038244f8-4b31-446b-b92d-57e8a00c1144"
      },
      "source": [
        "# Get train MAE loss.\n",
        "x_train_pred = model.predict(x_train)\n",
        "train_mae_loss = np.mean(np.abs(x_train_pred - x_train), axis=1)\n",
        "\n",
        "plt.hist(train_mae_loss, bins=50)\n",
        "plt.xlabel(\"Train MAE loss\")\n",
        "plt.ylabel(\"No of samples\")\n",
        "plt.show()\n",
        "\n",
        "# Get reconstruction loss threshold.\n",
        "threshold = np.mean(train_mae_loss) + 3*np.std(train_mae_loss)\n",
        "\n",
        "print(\"Reconstruction error threshold: \", threshold)"
      ],
      "execution_count": null,
      "outputs": [
        {
          "output_type": "display_data",
          "data": {
            "image/png": "[encoded data removed]",
            "text/plain": [
              "<Figure size 432x288 with 1 Axes>"
            ]
          },
          "metadata": {
            "tags": [],
            "needs_background": "light"
          }
        },
        {
          "output_type": "stream",
          "text": [
            "Reconstruction error threshold:  0.10933436778682785\n"
          ],
          "name": "stdout"
        }
      ]
    },
    {
      "cell_type": "markdown",
      "metadata": {
        "id": "I9huCuwvAg3_"
      },
      "source": [
        "### Compare recontruction\n",
        "\n",
        "Just for fun, let's see how our model has recontructed the first sample.\n",
        "This is the 288 timesteps from day 1 of our training dataset."
      ]
    },
    {
      "cell_type": "code",
      "metadata": {
        "id": "i1k-vLaVAg3_",
        "colab": {
          "base_uri": "https://localhost:8080/",
          "height": 265
        },
        "outputId": "2acfe7f6-4e81-4909-89f1-a47cca6f16e0"
      },
      "source": [
        "# Checking how the first sequence is learnt\n",
        "plt.plot(x_train[0])\n",
        "plt.plot(x_train_pred[0])\n",
        "plt.show()"
      ],
      "execution_count": null,
      "outputs": [
        {
          "output_type": "display_data",
          "data": {
            "image/png": "[encoded data removed]",
            "text/plain": [
              "<Figure size 432x288 with 1 Axes>"
            ]
          },
          "metadata": {
            "tags": [],
            "needs_background": "light"
          }
        }
      ]
    },
    {
      "cell_type": "markdown",
      "metadata": {
        "id": "9BzhuIthAg3_"
      },
      "source": [
        "### Prepare test data"
      ]
    },
    {
      "cell_type": "code",
      "metadata": {
        "id": "xm9oNcfFAg3_",
        "colab": {
          "base_uri": "https://localhost:8080/",
          "height": 619
        },
        "outputId": "a8c17325-bc00-4cd3-8588-baab5a0a9a6d"
      },
      "source": [
        "df_test_value = (df_daily_jumpsup - training_mean) / training_std\n",
        "fig, ax = plt.subplots()\n",
        "df_test_value.plot(legend=False, ax=ax)\n",
        "plt.show()\n",
        "\n",
        "# Create sequences from test values.\n",
        "x_test = create_sequences(df_test_value.values)\n",
        "print(\"Test input shape: \", x_test.shape)\n",
        "\n",
        "# Get test MAE loss.\n",
        "x_test_pred = model.predict(x_test)\n",
        "test_mae_loss = np.mean(np.abs(x_test_pred - x_test), axis=1)\n",
        "test_mae_loss = test_mae_loss.reshape((-1))\n",
        "\n",
        "plt.hist(test_mae_loss, bins=50)\n",
        "plt.xlabel(\"test MAE loss\")\n",
        "plt.ylabel(\"No of samples\")\n",
        "plt.show()\n",
        "\n",
        "# Detect all the samples which are anomalies.\n",
        "anomalies = test_mae_loss > threshold\n",
        "print(\"Number of anomaly samples: \", np.sum(anomalies))\n",
        "print(\"Indices of anomaly samples: \", np.where(anomalies))"
      ],
      "execution_count": null,
      "outputs": [
        {
          "output_type": "display_data",
          "data": {
            "image/png": "[encoded data removed]",
            "text/plain": [
              "<Figure size 432x288 with 1 Axes>"
            ]
          },
          "metadata": {
            "tags": [],
            "needs_background": "light"
          }
        },
        {
          "output_type": "stream",
          "text": [
            "Test input shape:  (14, 288, 1)\n"
          ],
          "name": "stdout"
        },
        {
          "output_type": "display_data",
          "data": {
            "image/png": "[encoded data removed]",
            "text/plain": [
              "<Figure size 432x288 with 1 Axes>"
            ]
          },
          "metadata": {
            "tags": [],
            "needs_background": "light"
          }
        },
        {
          "output_type": "stream",
          "text": [
            "Number of anomaly samples:  1\n",
            "Indices of anomaly samples:  (array([10]),)\n"
          ],
          "name": "stdout"
        }
      ]
    },
    {
      "cell_type": "markdown",
      "metadata": {
        "id": "wqOt3cGCAg3_"
      },
      "source": [
        "## Plot anomalies\n",
        "\n",
        "We now know the samples of the data which are anomalies. With this, we will\n",
        "find the corresponding `timestamps` from the original test data.\n",
        "\n",
        "Let's overlay the anomalies on the original test data plot."
      ]
    },
    {
      "cell_type": "code",
      "metadata": {
        "id": "yrNH4tr7Ag3_",
        "colab": {
          "base_uri": "https://localhost:8080/",
          "height": 303
        },
        "outputId": "17e6b3ad-e059-47f6-feb3-821c038e12b4"
      },
      "source": [
        "w = np.where(anomalies)\n",
        "\n",
        "anomalous_data_indices = []\n",
        "for data_idx in range(TIME_STEPS - 1, len(df_test_value) - TIME_STEPS + 1):\n",
        "    a = (data_idx)//TIME_DELTA\n",
        "    if a in w[0]:\n",
        "        anomalous_data_indices.append(data_idx)\n",
        "\n",
        "df_subset = df_daily_jumpsup.iloc[anomalous_data_indices]\n",
        "fig, ax = plt.subplots()\n",
        "df_daily_jumpsup.plot(legend=False, ax=ax)\n",
        "df_subset.plot(legend=False, ax=ax, color=\"r\")\n",
        "plt.show()"
      ],
      "execution_count": null,
      "outputs": [
        {
          "output_type": "display_data",
          "data": {
            "image/png": "[encoded data removed]",
            "text/plain": [
              "<Figure size 432x288 with 1 Axes>"
            ]
          },
          "metadata": {
            "tags": [],
            "needs_background": "light"
          }
        }
      ]
    },
    {
      "cell_type": "markdown",
      "metadata": {
        "id": "1ZEZlU5pFv45"
      },
      "source": [
        "# GAN\n",
        "\n",
        "Let us use a GAN to generate data samples.\n",
        "\n",
        "GAN is trained with only normal samples and will generate new normal samples."
      ]
    },
    {
      "cell_type": "code",
      "metadata": {
        "colab": {
          "base_uri": "https://localhost:8080/"
        },
        "id": "-qbaBfrjpLeO",
        "outputId": "4a16ae01-d31b-4f52-a6ba-effe6526eaaf"
      },
      "source": [
        "# Use also normal samples from the test set\n",
        "x_train = np.vstack((x_train,x_test[0:9]))\n",
        "x_train = np.vstack((x_train,x_test[11:13]))\n",
        "\n",
        "print(x_train.shape)"
      ],
      "execution_count": null,
      "outputs": [
        {
          "output_type": "stream",
          "text": [
            "(36, 288, 1)\n"
          ],
          "name": "stdout"
        }
      ]
    },
    {
      "cell_type": "markdown",
      "metadata": {
        "id": "coybUgIk94dY"
      },
      "source": [
        "## Model\n",
        "\n",
        "Define the GAN model.\n"
      ]
    },
    {
      "cell_type": "code",
      "metadata": {
        "colab": {
          "base_uri": "https://localhost:8080/"
        },
        "id": "tMvWYfzRFzjc",
        "outputId": "ea890752-da66-4ae3-89f6-99251c838e16"
      },
      "source": [
        "print(\"\\nInput: %s\\n\" %str(x_train.shape))\n",
        "\n",
        "discriminator = keras.Sequential(\n",
        "    [\n",
        "        layers.Input(shape=(x_train.shape[1], x_train.shape[2])),\n",
        "        layers.Conv1D(\n",
        "            filters=32, kernel_size=7, padding=\"same\", strides=2, activation=\"relu\"\n",
        "        ),\n",
        "        layers.Dropout(rate=0.2),\n",
        "        layers.Conv1D(\n",
        "            filters=16, kernel_size=7, padding=\"same\", strides=2, activation=\"relu\", name=\"Dfeat\"\n",
        "        ),\n",
        "        layers.Flatten(),\n",
        "        layers.Dense(1, activation='sigmoid')\n",
        "    ], name = \"D\"\n",
        ")\n",
        "discriminator.compile(optimizer=keras.optimizers.Adam(learning_rate=0.001), loss='binary_crossentropy', metrics=['accuracy'])\n",
        "discriminator.summary()\n",
        "\n",
        "\n",
        "l = discriminator.get_layer(name=\"Dfeat\")\n",
        "print(\"\\nDiscriminator feature layer: %s\" %str(l.output_shape))\n",
        "\n",
        "\n",
        "# Latent space dimension for generator\n",
        "latent_dim = l.output_shape[1]\n",
        "latent_shape = (latent_dim,)\n",
        "print(\"\\nLatent space: %s\\n\" %str(latent_shape))\n",
        "n_nodes = l.output_shape[1] * l.output_shape[2]\n",
        "\n",
        "generator = keras.Sequential(\n",
        "    [\n",
        "        layers.Dense(n_nodes, input_shape=latent_shape, activation=\"relu\"),\n",
        "        layers.Reshape((72,16)),\n",
        "        layers.Conv1DTranspose(\n",
        "            filters=16, kernel_size=7, padding=\"same\", strides=2, activation=\"relu\"\n",
        "        ),\n",
        "        layers.Dropout(rate=0.2),\n",
        "        layers.Conv1DTranspose(\n",
        "            filters=32, kernel_size=7, padding=\"same\", strides=2, activation=\"relu\"\n",
        "        ),\n",
        "        layers.Conv1DTranspose(filters=1, kernel_size=7, padding=\"same\"),\n",
        "    ], name = \"G\"\n",
        ")\n",
        "generator.summary()\n",
        "\n",
        "# store a noisy sample generated before training\n",
        "noise = np.random.normal(0, 1, (1, latent_dim))\n",
        "noise_sample = generator.predict(noise)\n",
        "\n",
        "\n",
        "# The combined GAN model  (stacked generator and discriminator) takes\n",
        "# noise as input => generates images => determines validity\n",
        "gan = keras.Sequential(name=\"GAN\")\n",
        "gan.add(layers.Input(shape=latent_shape))\n",
        "gan.add(generator)\n",
        "gan.add(discriminator)\n",
        "discriminator.trainable = False\n",
        "gan.compile(loss='binary_crossentropy', optimizer=keras.optimizers.Adam(learning_rate=0.001))\n",
        "gan.summary()\n",
        "\n",
        "# Training epochs counter\n",
        "epoch=0\n"
      ],
      "execution_count": null,
      "outputs": [
        {
          "output_type": "stream",
          "text": [
            "\n",
            "Input: (36, 288, 1)\n",
            "\n",
            "Model: \"D\"\n",
            "_________________________________________________________________\n",
            "Layer (type)                 Output Shape              Param #   \n",
            "=================================================================\n",
            "conv1d_19 (Conv1D)           (None, 144, 32)           256       \n",
            "_________________________________________________________________\n",
            "dropout_13 (Dropout)         (None, 144, 32)           0         \n",
            "_________________________________________________________________\n",
            "Dfeat (Conv1D)               (None, 72, 16)            3600      \n",
            "_________________________________________________________________\n",
            "flatten_3 (Flatten)          (None, 1152)              0         \n",
            "_________________________________________________________________\n",
            "dense_6 (Dense)              (None, 1)                 1153      \n",
            "=================================================================\n",
            "Total params: 5,009\n",
            "Trainable params: 5,009\n",
            "Non-trainable params: 0\n",
            "_________________________________________________________________\n",
            "\n",
            "Discriminator feature layer: (None, 72, 16)\n",
            "\n",
            "Latent space: (72,)\n",
            "\n",
            "Model: \"G\"\n",
            "_________________________________________________________________\n",
            "Layer (type)                 Output Shape              Param #   \n",
            "=================================================================\n",
            "dense_7 (Dense)              (None, 1152)              84096     \n",
            "_________________________________________________________________\n",
            "reshape_3 (Reshape)          (None, 72, 16)            0         \n",
            "_________________________________________________________________\n",
            "conv1d_transpose_33 (Conv1DT (None, 144, 16)           1808      \n",
            "_________________________________________________________________\n",
            "dropout_14 (Dropout)         (None, 144, 16)           0         \n",
            "_________________________________________________________________\n",
            "conv1d_transpose_34 (Conv1DT (None, 288, 32)           3616      \n",
            "_________________________________________________________________\n",
            "conv1d_transpose_35 (Conv1DT (None, 288, 1)            225       \n",
            "=================================================================\n",
            "Total params: 89,745\n",
            "Trainable params: 89,745\n",
            "Non-trainable params: 0\n",
            "_________________________________________________________________\n",
            "Model: \"GAN\"\n",
            "_________________________________________________________________\n",
            "Layer (type)                 Output Shape              Param #   \n",
            "=================================================================\n",
            "G (Sequential)               (None, 288, 1)            89745     \n",
            "_________________________________________________________________\n",
            "D (Sequential)               (None, 1)                 5009      \n",
            "=================================================================\n",
            "Total params: 94,754\n",
            "Trainable params: 89,745\n",
            "Non-trainable params: 5,009\n",
            "_________________________________________________________________\n"
          ],
          "name": "stdout"
        }
      ]
    },
    {
      "cell_type": "markdown",
      "metadata": {
        "id": "jbXy13B5NXN5"
      },
      "source": [
        "## Train\n",
        "\n",
        "Define the GAN training function"
      ]
    },
    {
      "cell_type": "code",
      "metadata": {
        "id": "Z70bE6DoNYf-"
      },
      "source": [
        "def train(epochs, batch_size=32, save_interval=100):\n",
        "    global epoch\n",
        "\n",
        "    half_batch = int(batch_size / 2)\n",
        "\n",
        "    last_epoch = epoch + epochs\n",
        "\n",
        "    while epoch < last_epoch:\n",
        "\n",
        "        # ---------------------\n",
        "        #  Train Discriminator\n",
        "        # ---------------------\n",
        "\n",
        "        # Select a random half batch of samples\n",
        "        idx = np.random.randint(0, x_train.shape[0], half_batch)\n",
        "        samples = x_train[idx]\n",
        "\n",
        "        # Generate a half batch of new samples\n",
        "        noise = np.random.normal(0, 1, (half_batch, latent_dim))\n",
        "        gen_samples = generator.predict(noise)\n",
        "\n",
        "        # Train the discriminator\n",
        "        X, y = np.vstack((samples, gen_samples)), np.vstack((np.ones((half_batch, 1)), np.zeros((half_batch, 1))))\n",
        "        d_loss = discriminator.train_on_batch(X, y)\n",
        "\n",
        "\n",
        "        # ---------------------\n",
        "        #  Train Generator\n",
        "        # ---------------------\n",
        "        noise = np.random.normal(0, 1, (batch_size, latent_dim))\n",
        "\n",
        "        # The generator wants the discriminator to label the generated samples\n",
        "        # as valid (ones)\n",
        "        valid_y = np.array([1] * batch_size)\n",
        "\n",
        "        # Train the generator\n",
        "        g_loss = gan.train_on_batch(noise, valid_y)\n",
        "\n",
        "        epoch += 1\n",
        "\n",
        "        # If at save interval => save generated image samples\n",
        "        if epoch % save_interval == 0:\n",
        "            # Plot the progress                \n",
        "            print ( \"%d [D loss: %f, acc: %.2f%%] [G loss: %f]\" % (epoch, d_loss[0], 100*d_loss[1], g_loss))\n",
        "            if g_loss<1.0 and d_loss[1]>0.4 and d_loss[1]<0.6:\n",
        "                break\n"
      ],
      "execution_count": null,
      "outputs": []
    },
    {
      "cell_type": "markdown",
      "metadata": {
        "id": "qdciMY4Q-JTA"
      },
      "source": [
        "Now train the model.\n",
        "\n",
        "Train until you get D acc around 50% and G loss < 1.0"
      ]
    },
    {
      "cell_type": "code",
      "metadata": {
        "colab": {
          "base_uri": "https://localhost:8080/"
        },
        "id": "HAhgI3tlOtqa",
        "outputId": "7ee1cf90-bcc2-4f2c-9454-ae75dd45a021"
      },
      "source": [
        "train(1000, save_interval=100)"
      ],
      "execution_count": null,
      "outputs": [
        {
          "output_type": "stream",
          "text": [
            "2400 [D loss: 0.395867, acc: 96.88%] [G loss: 1.346949]\n",
            "2500 [D loss: 0.303622, acc: 100.00%] [G loss: 1.818541]\n",
            "2600 [D loss: 0.881899, acc: 28.12%] [G loss: 0.559932]\n",
            "2700 [D loss: 0.196076, acc: 100.00%] [G loss: 2.457716]\n",
            "2800 [D loss: 0.431648, acc: 93.75%] [G loss: 1.280479]\n",
            "2900 [D loss: 0.782121, acc: 37.50%] [G loss: 1.152078]\n",
            "3000 [D loss: 0.362687, acc: 96.88%] [G loss: 1.593567]\n",
            "3100 [D loss: 0.529513, acc: 71.88%] [G loss: 1.427671]\n",
            "3200 [D loss: 0.760608, acc: 53.12%] [G loss: 1.462197]\n",
            "3300 [D loss: 0.527936, acc: 78.12%] [G loss: 1.398929]\n"
          ],
          "name": "stdout"
        }
      ]
    },
    {
      "cell_type": "markdown",
      "metadata": {
        "id": "H5L7_KEs-9gz"
      },
      "source": [
        "## Generate\n",
        "\n",
        "Generate a new 1D signal formed by\n",
        "\n",
        "    2 normal chunks\n",
        "    1 chunk generated by the AE\n",
        "    1 chink generated by the untrained GAN\n",
        "    1 chunk generated by the trained GAN\n",
        "    2 normal chunks\n"
      ]
    },
    {
      "cell_type": "code",
      "metadata": {
        "colab": {
          "base_uri": "https://localhost:8080/",
          "height": 283
        },
        "id": "8PfyvBBdRJCL",
        "outputId": "857b6e79-7de9-45df-9469-f9bb2bb6af0c"
      },
      "source": [
        "# Generate new time series\n",
        "noise = np.random.normal(0, 1, (1, latent_dim))\n",
        "new_sample = generator.predict(noise)\n",
        "\n",
        "y = x_train[0]\n",
        "y = np.vstack((y,x_train[1]))\n",
        "y = np.vstack((y,x_train_pred[0]))\n",
        "y = np.vstack((y,noise_sample[0]))\n",
        "y = np.vstack((y,new_sample[0]))\n",
        "y = np.vstack((y,x_train[2]))\n",
        "y = np.vstack((y,x_train[3]))\n",
        "\n",
        "print(y.shape)\n",
        "\n",
        "# Plot the new sample\n",
        "plt.plot(y)\n",
        "plt.show()"
      ],
      "execution_count": null,
      "outputs": [
        {
          "output_type": "stream",
          "text": [
            "(2016, 1)\n"
          ],
          "name": "stdout"
        },
        {
          "output_type": "display_data",
          "data": {
            "image/png": "[encoded data removed]",
            "text/plain": [
              "<Figure size 432x288 with 1 Axes>"
            ]
          },
          "metadata": {
            "tags": [],
            "needs_background": "light"
          }
        }
      ]
    },
    {
      "cell_type": "markdown",
      "metadata": {
        "id": "ZNQ4VjuTtx_6"
      },
      "source": [
        "## Test \n",
        "\n",
        "Test generated sample for anomaly detection.\n",
        "\n",
        "Use AE to check for anomalies in the new generated 1D signal."
      ]
    },
    {
      "cell_type": "code",
      "metadata": {
        "colab": {
          "base_uri": "https://localhost:8080/",
          "height": 582
        },
        "id": "0gp2cM3itwM4",
        "outputId": "86759920-1b48-49d4-ec4f-6f8169c08a3b"
      },
      "source": [
        "# Create sequences from new sample\n",
        "y_test = create_sequences(y)\n",
        "print(\"New sample shape: \", y_test.shape)\n",
        "\n",
        "y_pred = model.predict(y_test)\n",
        "y_mae_loss = np.mean(np.abs(y_pred - y_test), axis=1)\n",
        "y_mae_loss = y_mae_loss.reshape((-1))\n",
        "\n",
        "plt.hist(y_mae_loss, bins=50)\n",
        "plt.xlabel(\"new sample MAE loss\")\n",
        "plt.ylabel(\"No of samples\")\n",
        "plt.show()\n",
        "\n",
        "# Detect all the samples which are anomalies.\n",
        "y_anomalies = y_mae_loss > threshold\n",
        "print(\"Number of anomaly samples: \", np.sum(y_anomalies))\n",
        "print(\"Indices of anomaly samples: \", np.where(y_anomalies))\n",
        "\n",
        "\n",
        "w = np.where(y_anomalies)\n",
        "\n",
        "anomalous_data_indices = []\n",
        "for data_idx in range(TIME_STEPS - 1, len(y) - TIME_STEPS + 1):\n",
        "    a = (data_idx)//TIME_DELTA\n",
        "    if a in w[0]:\n",
        "        anomalous_data_indices.append(data_idx)\n",
        "\n",
        "y = pd.DataFrame(y)\n",
        "y_subset = y.iloc[anomalous_data_indices]\n",
        "fig, ax = plt.subplots()\n",
        "plt.plot(y)\n",
        "y_subset.plot(legend=False, ax=ax, color=\"r\")\n",
        "plt.show()\n"
      ],
      "execution_count": null,
      "outputs": [
        {
          "output_type": "stream",
          "text": [
            "New sample shape:  (7, 288, 1)\n"
          ],
          "name": "stdout"
        },
        {
          "output_type": "display_data",
          "data": {
            "image/png": "[encoded data removed]",
            "text/plain": [
              "<Figure size 432x288 with 1 Axes>"
            ]
          },
          "metadata": {
            "tags": [],
            "needs_background": "light"
          }
        },
        {
          "output_type": "stream",
          "text": [
            "Number of anomaly samples:  1\n",
            "Indices of anomaly samples:  (array([3]),)\n"
          ],
          "name": "stdout"
        },
        {
          "output_type": "display_data",
          "data": {
            "image/png": "[encoded data removed]",
            "text/plain": [
              "<Figure size 432x288 with 1 Axes>"
            ]
          },
          "metadata": {
            "tags": [],
            "needs_background": "light"
          }
        }
      ]
    }
  ]
}